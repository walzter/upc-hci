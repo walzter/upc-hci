{
 "cells": [
  {
   "cell_type": "markdown",
   "metadata": {},
   "source": [
    "# Generative Adversarial Networks (GAN) on Images - https://arxiv.org/abs/1406.2661\n"
   ]
  },
  {
   "cell_type": "markdown",
   "metadata": {},
   "source": [
    "### Imports"
   ]
  },
  {
   "cell_type": "code",
   "execution_count": 14,
   "metadata": {},
   "outputs": [],
   "source": [
    "## imports \n",
    "## neural nets\n",
    "import torch\n",
    "from torch import nn, optim \n",
    "## datasets \n",
    "from torchvision.datasets import MNIST\n",
    "from torchvision import transforms\n",
    "## dataloader \n",
    "from torch.utils.data import DataLoader \n",
    "## linalg\n",
    "import numpy as np \n",
    "## plotting \n",
    "import matplotlib.pyplot as plt \n",
    "\n",
    "## Generator and Discriminator \n",
    "from Generator import Generator \n",
    "from Discriminator import Discriminator"
   ]
  },
  {
   "cell_type": "markdown",
   "metadata": {},
   "source": [
    "### Global Vars"
   ]
  },
  {
   "cell_type": "code",
   "execution_count": 10,
   "metadata": {},
   "outputs": [],
   "source": [
    "## dictionary to keep all the config values \n",
    "CONFIG = dict()\n",
    "## Epochs \n",
    "CONFIG['EPOCHS'] = 50\n",
    "## Noise Dimensions \n",
    "CONFIG['NOISE_DIM'] = 50\n",
    "## Batch Size \n",
    "CONFIG['BATCH_SIZE'] = 128\n",
    "## Device\n",
    "CONFIG['DEVICE'] = (torch.cuda('gpu') if torch.cuda.is_available() else \"cpu\")\n",
    "## Verbosity (number of batches to print out data)\n",
    "CONFIG['VERB_BATCH'] = 50\n",
    "## LeakyReLU Slop \n",
    "CONFIG['LEAKY_RELU_SLOPE'] = 0.2\n",
    "## Learning Rate \n",
    "CONFIG['LEARNING_RATE'] = 0.0002\n",
    "## Betas for optimizer \n",
    "CONFIG['OPTIM_BETAS'] = (0.5, 0.999)\n",
    "## Output shape \n",
    "CONFIG['OUTPUT_SHAPE'] = (28*28*1)"
   ]
  },
  {
   "cell_type": "code",
   "execution_count": 11,
   "metadata": {},
   "outputs": [],
   "source": [
    "## We can also increase the speed of our code by doing the following:\n",
    "torch.autograd.set_detect_anomaly(False)\n",
    "torch.autograd.profiler.profile(False)\n",
    "torch.autograd.profiler.emit_nvtx(False)\n",
    "torch.backends.cudnn.benchmark = True"
   ]
  }
 ],
 "metadata": {
  "interpreter": {
   "hash": "ac6858c3dbc49267e902ff986705b591b9d7b57befff84fd7d814fe16c4a8e1f"
  },
  "kernelspec": {
   "display_name": "Python 3.8.5 ('ci_covid')",
   "language": "python",
   "name": "python3"
  },
  "language_info": {
   "codemirror_mode": {
    "name": "ipython",
    "version": 3
   },
   "file_extension": ".py",
   "mimetype": "text/x-python",
   "name": "python",
   "nbconvert_exporter": "python",
   "pygments_lexer": "ipython3",
   "version": "3.8.5"
  },
  "orig_nbformat": 4
 },
 "nbformat": 4,
 "nbformat_minor": 2
}
